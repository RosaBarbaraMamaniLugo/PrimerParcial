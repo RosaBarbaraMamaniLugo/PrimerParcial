{
 "cells": [
  {
   "cell_type": "code",
   "execution_count": 1,
   "metadata": {},
   "outputs": [],
   "source": [
    "class Nodo:\n",
    "    def __init__(self, estado, hijo=None):\n",
    "        self.estado = estado#posibles movimientos, cordenadas, valores en relaion a un problema\n",
    "        self.hijo = None\n",
    "        self.padre = None\n",
    "        self.accion = None\n",
    "        self.acciones = None #conjunto de acciones\n",
    "        self.costo = None\n",
    "        self.set_hijo(hijo)\n",
    "\n",
    "    def set_hijo(self, hijo):\n",
    "        self.hijo = hijo\n",
    "        if self.hijo is not None:\n",
    "            for s in self.hijo:\n",
    "                s.padre = self\n",
    "\n",
    "    def get_hijo(self):\n",
    "        return self.hijo\n",
    "\n",
    "    def get_padre(self):\n",
    "        return self.padre\n",
    "\n",
    "    def set_padre(self, padre):\n",
    "        self.padre = padre\n",
    "\n",
    "    def set_estado(self, estado):\n",
    "        self.estado = estado\n",
    "\n",
    "    def get_estado(self):\n",
    "        return self.estado\n",
    "\n",
    "    def set_accion(self, accion):\n",
    "        self.padre = accion\n",
    "\n",
    "    def get_accion(self):\n",
    "        return self.accion\n",
    "\n",
    "    def set_acciones(self, acciones):\n",
    "        self.acciones = acciones\n",
    "\n",
    "    def get_acciones(self):\n",
    "        return self.acciones    \n",
    "\n",
    "    def set_costo(self, costo):\n",
    "        self.costo = costo\n",
    "\n",
    "    def get_costo(self):\n",
    "        return self.costo\n",
    "\n",
    "    def equal(self, nodo):# compraracion de nodos\n",
    "        if self.get_estado() == nodo.get_estado():\n",
    "            return True\n",
    "        else:\n",
    "            return False\n",
    "\n",
    "    def en_lista(self, lista_nodos):# si el nodo ya existe basado en el estado\n",
    "        listed = False\n",
    "        for n in lista_nodos:\n",
    "            if self.equal(n):\n",
    "                enlistado = True\n",
    "        return enlistado\n",
    "\n",
    "    def __str__(self):\n",
    "        return str(self.get_estado())"
   ]
  },
  {
   "cell_type": "code",
   "execution_count": 2,
   "metadata": {},
   "outputs": [],
   "source": [
    "'''import sys\n",
    "import math\n",
    "sys.setrecursionlimit(9999999)'''"
   ]
  },
  {
   "cell_type": "code",
   "execution_count": 3,
   "metadata": {},
   "outputs": [],
   "source": [
    "def busqueda_BPA(nodo_inicial, solucion, visitado):\n",
    "    visitado.append(nodo_inicial.get_estado())\n",
    "    if nodo_inicial.get_estado() == solucion:\n",
    "        return nodo_inicial\n",
    "    else:\n",
    "        # Expandir nodos hijos\n",
    "        estado_nodo = nodo_inicial.get_estado()\n",
    "        nodos_hijo = []\n",
    "        \n",
    "        for i in range(0,len(estado_nodo)):\n",
    "            if estado_nodo[i] != \" \":\n",
    "                estado_hijo = estado_nodo.copy()\n",
    "                estado_hijo[i] = \" \"\n",
    "                nodos_hijo.append( Nodo( estado_hijo ) )  \n",
    "        nodo_inicial.set_hijo(nodos_hijo)\n",
    "\n",
    "        for nodos_hijo in nodo_inicial.get_hijo():\n",
    "\n",
    "            if not nodos_hijo.get_estado() in visitado:\n",
    "                solution = busqueda_BPA(nodos_hijo, solucion, visitado)\n",
    "                if solution is not None:\n",
    "                    return solution\n",
    "        return None"
   ]
  },
  {
   "cell_type": "code",
   "execution_count": 8,
   "metadata": {},
   "outputs": [
    {
     "name": "stdout",
     "output_type": "stream",
     "text": [
      "['0', '1', '2', '3', '4', '5', '6', '7', '8']\n",
      "['0', '1', '2', '3', '4', '5', ' ', '7', '8']\n",
      "['0', '1', '2', '3', '4', '5', ' ', ' ', '8']\n"
     ]
    }
   ],
   "source": [
    "if __name__ == \"__main__\":\n",
    "    estado_inicial = [\"0\",\"1\",\"2\",\"3\",\"4\",\"5\",\"6\",\"7\",\"8\"]\n",
    "    solucion = [ \"0\",\"1\",\"2\",\"3\",\"4\",\"5\",\" \",\" \",\"8\"]\n",
    "\n",
    "    visitado = []\n",
    "    nodo_inicial = Nodo(estado_inicial)\n",
    "    \n",
    "    nodo_actual = busqueda_BPA(nodo_inicial, solucion, visitado)\n",
    "\n",
    "    resultado = []\n",
    "    nodo = nodo_actual\n",
    "\n",
    "    while nodo.get_padre() is not None:\n",
    "        resultado.append(nodo.get_estado())\n",
    "        nodo = nodo.get_padre()\n",
    "    \n",
    "    resultado.append(estado_inicial)\n",
    "    resultado.reverse()\n",
    "\n",
    "    nodo = 1\n",
    "    for valor in resultado:\n",
    "        print(valor, end=\"\\n\")\n",
    "        nodo += 1"
   ]
  }
 ],
 "metadata": {
  "kernelspec": {
   "display_name": "Python 3.10.7 64-bit",
   "language": "python",
   "name": "python3"
  },
  "language_info": {
   "codemirror_mode": {
    "name": "ipython",
    "version": 3
   },
   "file_extension": ".py",
   "mimetype": "text/x-python",
   "name": "python",
   "nbconvert_exporter": "python",
   "pygments_lexer": "ipython3",
   "version": "3.10.7"
  },
  "orig_nbformat": 4,
  "vscode": {
   "interpreter": {
    "hash": "d8fbd2603ff75bc61e971080326a76d359f3a8f97b6a45bd7bf67ef309edee70"
   }
  }
 },
 "nbformat": 4,
 "nbformat_minor": 2
}
